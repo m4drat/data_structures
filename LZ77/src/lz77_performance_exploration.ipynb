{
 "cells": [
  {
   "cell_type": "code",
   "execution_count": 17,
   "metadata": {},
   "outputs": [],
   "source": [
    "from scipy.interpolate import make_interp_spline, BSpline\n",
    "from scipy.ndimage.filters import gaussian_filter1d\n",
    "import numpy as np\n",
    "from dataclasses import dataclass\n",
    "import matplotlib.pyplot as plt\n",
    "from bitarray import bitarray\n",
    "from typing import *\n",
    "import time\n",
    "\n",
    "from LZ77 import LZ77"
   ]
  },
  {
   "cell_type": "code",
   "execution_count": 18,
   "metadata": {},
   "outputs": [
    {
     "name": "stdout",
     "output_type": "stream",
     "text": [
      "Current search window size: 32\n",
      "Data size: 193936\n",
      "Data size compressed: 275385\n",
      "Compression time (32, 65536): 1.1206328868865967 seconds\n",
      "\n",
      "Current search window size: 64\n",
      "Data size: 193936\n",
      "Data size compressed: 237471\n",
      "Compression time (64, 65536): 1.4996495246887207 seconds\n",
      "\n",
      "Current search window size: 128\n",
      "Data size: 193936\n",
      "Data size compressed: 206250\n",
      "Compression time (128, 65536): 3.1896896362304688 seconds\n",
      "\n",
      "Current search window size: 256\n",
      "Data size: 193936\n",
      "Data size compressed: 175119\n",
      "Compression time (256, 65536): 4.915402412414551 seconds\n",
      "\n",
      "Current search window size: 512\n",
      "Data size: 193936\n",
      "Data size compressed: 145845\n",
      "Compression time (512, 65536): 9.215196132659912 seconds\n",
      "\n",
      "Current search window size: 1024\n",
      "Data size: 193936\n",
      "Data size compressed: 122139\n",
      "Compression time (1024, 65536): 15.663199663162231 seconds\n",
      "\n",
      "Current search window size: 2048\n",
      "Data size: 193936\n",
      "Data size compressed: 99927\n",
      "Compression time (2048, 65536): 26.351912260055542 seconds\n",
      "\n",
      "Current search window size: 4096\n",
      "Data size: 193936\n",
      "Data size compressed: 92001\n",
      "Compression time (4096, 65536): 43.9939444065094 seconds\n",
      "\n",
      "Current search window size: 8192\n",
      "Data size: 193936\n",
      "Data size compressed: 90099\n",
      "Compression time (8192, 65536): 71.09634900093079 seconds\n",
      "\n"
     ]
    }
   ],
   "source": [
    "data_bin: List[Tuple[int, int, float, int, int]] = []\n",
    "with open('C:/Users/madrat/Desktop/hse/informatics/Labs/lab3/data.bin', 'rb') as file:\n",
    "    data = file.read()\n",
    "\n",
    "    proactive_size = 2 ** 16\n",
    "    for power in range(5, 14): # 14\n",
    "        search_window_size = 2 ** power\n",
    "        print(f'Current search window size: {search_window_size}')\n",
    "\n",
    "        lz77 = LZ77(search_window_size, proactive_size)\n",
    "        start_time = time.time()\n",
    "        compressed = lz77.compress(data)\n",
    "        end_time = time.time()\n",
    "\n",
    "        print(f'Data size: {len(data)}')\n",
    "        print(f'Data size compressed: {len(compressed) * 3}')\n",
    "        print(f'Compression time ({search_window_size}, {proactive_size}): {end_time - start_time} seconds\\n')\n",
    "\n",
    "        data_bin.append((len(compressed) * 3, len(data), end_time - start_time, search_window_size, proactive_size))"
   ]
  },
  {
   "cell_type": "code",
   "execution_count": 49,
   "metadata": {},
   "outputs": [
    {
     "name": "stdout",
     "output_type": "stream",
     "text": [
      "Current search window size: 32\n",
      "Data size: 529387\n",
      "Data size compressed: 808917\n",
      "Compression time (32, 65536): 3.7938942909240723 seconds\n",
      "\n",
      "Current search window size: 64\n",
      "Data size: 529387\n",
      "Data size compressed: 682392\n",
      "Compression time (64, 65536): 6.41337251663208 seconds\n",
      "\n",
      "Current search window size: 128\n",
      "Data size: 529387\n",
      "Data size compressed: 570879\n",
      "Compression time (128, 65536): 9.415651798248291 seconds\n",
      "\n",
      "Current search window size: 256\n",
      "Data size: 529387\n",
      "Data size compressed: 480126\n",
      "Compression time (256, 65536): 14.09435749053955 seconds\n",
      "\n",
      "Current search window size: 512\n",
      "Data size: 529387\n",
      "Data size compressed: 407937\n",
      "Compression time (512, 65536): 26.931761741638184 seconds\n",
      "\n",
      "Current search window size: 1024\n",
      "Data size: 529387\n",
      "Data size compressed: 351747\n",
      "Compression time (1024, 65536): 48.71956443786621 seconds\n",
      "\n",
      "Current search window size: 2048\n",
      "Data size: 529387\n",
      "Data size compressed: 311646\n",
      "Compression time (2048, 65536): 85.10587096214294 seconds\n",
      "\n",
      "Current search window size: 4096\n",
      "Data size: 529387\n",
      "Data size compressed: 284385\n",
      "Compression time (4096, 65536): 153.09094166755676 seconds\n",
      "\n",
      "Current search window size: 8192\n",
      "Data size: 529387\n",
      "Data size compressed: 269292\n",
      "Compression time (8192, 65536): 269.727783203125 seconds\n",
      "\n"
     ]
    }
   ],
   "source": [
    "data_nat: List[Tuple[int, int, float, int, int]] = []\n",
    "with open('C:/Users/madrat/Desktop/hse/informatics/Labs/lab3/w_spok_2011.txt', 'rb') as file:\n",
    "    data = file.read()\n",
    "\n",
    "    proactive_size = 2 ** 16\n",
    "    for power in range(5, 14): # 14\n",
    "        search_window_size = 2 ** power\n",
    "        print(f'Current search window size: {search_window_size}')\n",
    "\n",
    "        lz77 = LZ77(search_window_size, proactive_size)\n",
    "        start_time = time.time()\n",
    "        compressed = lz77.compress(data)\n",
    "        end_time = time.time()\n",
    "\n",
    "        print(f'Data size: {len(data)}')\n",
    "        print(f'Data size compressed: {len(compressed) * 3}')\n",
    "        print(f'Compression time ({search_window_size}, {proactive_size}): {end_time - start_time} seconds\\n')\n",
    "\n",
    "        data_nat.append((len(compressed) * 3, len(data), end_time - start_time, search_window_size, proactive_size)) "
   ]
  },
  {
   "cell_type": "code",
   "execution_count": 48,
   "metadata": {},
   "outputs": [
    {
     "data": {
      "text/plain": [
       "[<matplotlib.lines.Line2D at 0x100fa870>]"
      ]
     },
     "execution_count": 48,
     "metadata": {},
     "output_type": "execute_result"
    },
    {
     "data": {
      "image/png": "[encoded data removed]",
      "text/plain": [
       "<Figure size 432x288 with 1 Axes>"
      ]
     },
     "metadata": {
      "needs_background": "light"
     },
     "output_type": "display_data"
    }
   ],
   "source": [
    "ax1 = plt.subplot()\n",
    "ax1.set_title('Binary data')\n",
    "ax1.set_xlabel('search window size')\n",
    "ax1.set_ylabel('time')\n",
    "\n",
    "x_data = [tmp[3] for tmp in data_bin]\n",
    "y_data = [tmp[2] for tmp in data_bin]\n",
    "\n",
    "ax1.plot(x_data, y_data)"
   ]
  },
  {
   "cell_type": "code",
   "execution_count": 47,
   "metadata": {},
   "outputs": [
    {
     "data": {
      "text/plain": [
       "[<matplotlib.lines.Line2D at 0x11d81930>]"
      ]
     },
     "execution_count": 47,
     "metadata": {},
     "output_type": "execute_result"
    },
    {
     "data": {
      "image/png": "[encoded data removed]",
      "text/plain": [
       "<Figure size 432x288 with 1 Axes>"
      ]
     },
     "metadata": {
      "needs_background": "light"
     },
     "output_type": "display_data"
    }
   ],
   "source": [
    "ax2 = plt.subplot()\n",
    "ax2.set_title('Binary data')\n",
    "ax2.set_xlabel('search window size')\n",
    "ax2.set_ylabel('compressed size')\n",
    "\n",
    "x_data = [tmp[3] for tmp in data_bin]\n",
    "y_data = [tmp[0] for tmp in data_bin]\n",
    "\n",
    "ax2.plot(x_data, y_data, 'r-')"
   ]
  },
  {
   "cell_type": "code",
   "execution_count": 50,
   "metadata": {},
   "outputs": [
    {
     "data": {
      "text/plain": [
       "[<matplotlib.lines.Line2D at 0x11104db0>]"
      ]
     },
     "execution_count": 50,
     "metadata": {},
     "output_type": "execute_result"
    },
    {
     "data": {
      "image/png": "[encoded data removed]",
      "text/plain": [
       "<Figure size 432x288 with 1 Axes>"
      ]
     },
     "metadata": {
      "needs_background": "light"
     },
     "output_type": "display_data"
    }
   ],
   "source": [
    "ax3 = plt.subplot()\n",
    "ax3.set_title('Natural text')\n",
    "ax3.set_xlabel('search window size')\n",
    "ax3.set_ylabel('time')\n",
    "\n",
    "x_data = [tmp[3] for tmp in data_nat]\n",
    "y_data = [tmp[2] for tmp in data_nat]\n",
    "\n",
    "ax3.plot(x_data, y_data)"
   ]
  },
  {
   "cell_type": "code",
   "execution_count": 51,
   "metadata": {},
   "outputs": [
    {
     "data": {
      "text/plain": [
       "[<matplotlib.lines.Line2D at 0xef8df0>]"
      ]
     },
     "execution_count": 51,
     "metadata": {},
     "output_type": "execute_result"
    },
    {
     "data": {
      "image/png": "[encoded data removed]",
      "text/plain": [
       "<Figure size 432x288 with 1 Axes>"
      ]
     },
     "metadata": {
      "needs_background": "light"
     },
     "output_type": "display_data"
    }
   ],
   "source": [
    "ax4 = plt.subplot()\n",
    "ax4.set_title('Natural text')\n",
    "ax4.set_xlabel('search window size')\n",
    "ax4.set_ylabel('compressed size')\n",
    "\n",
    "x_data = [tmp[3] for tmp in data_nat]\n",
    "y_data = [tmp[0] for tmp in data_nat]\n",
    "\n",
    "ax4.plot(x_data, y_data, 'r-')"
   ]
  }
 ],
 "metadata": {
  "kernelspec": {
   "display_name": "Python 3",
   "language": "python",
   "name": "python3"
  },
  "language_info": {
   "codemirror_mode": {
    "name": "ipython",
    "version": 3
   },
   "file_extension": ".py",
   "mimetype": "text/x-python",
   "name": "python",
   "nbconvert_exporter": "python",
   "pygments_lexer": "ipython3",
   "version": "3.7.3"
  }
 },
 "nbformat": 4,
 "nbformat_minor": 4
}
